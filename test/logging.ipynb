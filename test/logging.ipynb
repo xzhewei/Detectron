{
 "cells": [
  {
   "cell_type": "code",
   "execution_count": 1,
   "metadata": {
    "collapsed": true
   },
   "outputs": [],
   "source": [
    "from detectron.utils.logging import setup_logging_file"
   ]
  },
  {
   "cell_type": "code",
   "execution_count": 2,
   "metadata": {},
   "outputs": [
    {
     "name": "stdout",
     "output_type": "stream",
     "text": [
      "INFO <ipython-input-3-d1073bc72a7a>:   1: hellow logger\n",
      "INFO <ipython-input-3-d1073bc72a7a>:   2: hellow console\n",
      "INFO <ipython-input-3-d1073bc72a7a>:   3: hellow logfile\n",
      "INFO <ipython-input-5-893cce04f7b7>:   3: test logger\n",
      "INFO <ipython-input-6-d02392e39ef2>:   3: test logger\n",
      "INFO <ipython-input-6-d02392e39ef2>:   5: second test logger\n",
      "console print\n"
     ]
    }
   ],
   "source": [
    "logger = setup_logging_file(__name__,'./test.txt')"
   ]
  },
  {
   "cell_type": "code",
   "execution_count": 3,
   "metadata": {},
   "outputs": [],
   "source": [
    "logger.info('hellow logger')\n",
    "logger.info('hellow console')\n",
    "logger.info('hellow logfile')"
   ]
  },
  {
   "cell_type": "code",
   "execution_count": 6,
   "metadata": {},
   "outputs": [],
   "source": [
    "import logging\n",
    "tlogger = logging.getLogger('test')\n",
    "tlogger.info('test logger')\n",
    "slogger = logging.getLogger('second')\n",
    "slogger.info('second test logger')\n"
   ]
  },
  {
   "cell_type": "code",
   "execution_count": 7,
   "metadata": {
    "collapsed": true
   },
   "outputs": [],
   "source": [
    "print('console print')"
   ]
  },
  {
   "cell_type": "code",
   "execution_count": 10,
   "metadata": {},
   "outputs": [
    {
     "data": {
      "text/plain": [
       "'20180621'"
      ]
     },
     "execution_count": 10,
     "metadata": {},
     "output_type": "execute_result"
    }
   ],
   "source": [
    "import time\n",
    "time.strftime('%Y%m%d', time.localtime()) "
   ]
  }
 ],
 "metadata": {
  "kernelspec": {
   "display_name": "Python [conda env:caffe2]",
   "language": "python",
   "name": "conda-env-caffe2-py"
  },
  "language_info": {
   "codemirror_mode": {
    "name": "ipython",
    "version": 2
   },
   "file_extension": ".py",
   "mimetype": "text/x-python",
   "name": "python",
   "nbconvert_exporter": "python",
   "pygments_lexer": "ipython2",
   "version": "2.7.14"
  }
 },
 "nbformat": 4,
 "nbformat_minor": 2
}
